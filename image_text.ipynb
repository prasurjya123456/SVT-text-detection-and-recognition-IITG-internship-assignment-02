{
 "cells": [
  {
   "cell_type": "code",
   "execution_count": 38,
   "id": "42128d82",
   "metadata": {},
   "outputs": [],
   "source": [
    "import easyocr\n",
    "import cv2\n",
    "import os"
   ]
  },
  {
   "cell_type": "code",
   "execution_count": 39,
   "id": "eff2bf51",
   "metadata": {},
   "outputs": [],
   "source": [
    "def detect_and_recognize_text(image_path):\n",
    "    if not os.path.exists(image_path):\n",
    "        print(f\"Error: Image not found at '{image_path}'\")\n",
    "        return\n",
    "\n",
    "   \n",
    "    image = cv2.imread(image_path)\n",
    "    if image is None:\n",
    "        print(f\"Error: Could not read the image file. It might be corrupted or in an unsupported format.\")\n",
    "        return\n",
    "\n",
    "\n",
    "    print(\"Image loaded successfully. Initializing OCR reader...\")\n",
    "    reader = easyocr.Reader(['hi', 'en'])\n",
    "    print(\"Performing text detection and recognition...\")\n",
    "    results = reader.readtext(image)\n",
    "    print(f\"Found {len(results)} text regions.\")\n",
    "\n",
    "    \n",
    "    base_name = os.path.splitext(os.path.basename(image_path))[0]\n",
    "    output_image_path = f\"{base_name}_result.png\"\n",
    "    output_text_path = f\"{base_name}_text.txt\"\n",
    "\n",
    "    \n",
    "    output_image = image.copy()\n",
    "    \n",
    "    \n",
    "    with open(output_text_path, 'w', encoding='utf-8') as text_file:\n",
    "        for (bbox, text, prob) in results:\n",
    "            \n",
    "            text_file.write(f\"{text}\\n\")\n",
    "\n",
    "            (tl, tr, br, bl) = bbox\n",
    "            tl = (int(tl[0]), int(tl[1]))\n",
    "            br = (int(br[0]), int(br[1]))\n",
    "\n",
    "            \n",
    "            cv2.rectangle(output_image, tl, br, (0, 0, 255), 2) \n",
    "            \n",
    "            \n",
    "            '''cv2.putText(output_image, text, (tl[0], tl[1] - 10),\n",
    "                        cv2.FONT_HERSHEY_SIMPLEX, 0.8, (0, 0, 255), 2)'''\n",
    "\n",
    "    \n",
    "    cv2.imwrite(output_image_path, output_image)\n",
    "    \n",
    "    print(\"#\" * 30)\n",
    "    print(\"Processing complete!\")\n",
    "    print(f\"Image with bounding boxes saved to: {output_image_path}\")\n",
    "    print(f\"Recognized text saved to: {output_text_path}\")\n",
    "    print(\"#\" * 30)\n"
   ]
  },
  {
   "cell_type": "code",
   "execution_count": 40,
   "id": "7622fbca",
   "metadata": {},
   "outputs": [
    {
     "name": "stderr",
     "output_type": "stream",
     "text": [
      "Neither CUDA nor MPS are available - defaulting to CPU. Note: This module is much faster with a GPU.\n"
     ]
    },
    {
     "name": "stdout",
     "output_type": "stream",
     "text": [
      "Image loaded successfully. Initializing OCR reader...\n",
      "Performing text detection and recognition...\n"
     ]
    },
    {
     "name": "stderr",
     "output_type": "stream",
     "text": [
      "C:\\Users\\subra\\AppData\\Roaming\\Python\\Python312\\site-packages\\torch\\utils\\data\\dataloader.py:665: UserWarning: 'pin_memory' argument is set as true but no accelerator is found, then device pinned memory won't be used.\n",
      "  warnings.warn(warn_msg)\n"
     ]
    },
    {
     "name": "stdout",
     "output_type": "stream",
     "text": [
      "Found 12 text regions.\n",
      "##############################\n",
      "Processing complete!\n",
      "Image with bounding boxes saved to: demo_result.png\n",
      "Recognized text saved to: demo_text.txt\n",
      "##############################\n"
     ]
    }
   ],
   "source": [
    "if __name__ == \"__main__\":\n",
    "    \n",
    "    input_image_file = 'demo.jpg'\n",
    "    \n",
    "    detect_and_recognize_text(input_image_file)"
   ]
  }
 ],
 "metadata": {
  "kernelspec": {
   "display_name": "Python 3",
   "language": "python",
   "name": "python3"
  },
  "language_info": {
   "codemirror_mode": {
    "name": "ipython",
    "version": 3
   },
   "file_extension": ".py",
   "mimetype": "text/x-python",
   "name": "python",
   "nbconvert_exporter": "python",
   "pygments_lexer": "ipython3",
   "version": "3.12.2"
  }
 },
 "nbformat": 4,
 "nbformat_minor": 5
}
